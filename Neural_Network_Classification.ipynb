{
  "nbformat": 4,
  "nbformat_minor": 0,
  "metadata": {
    "colab": {
      "name": "Copy of CO III  Neural_Network_Classification.ipynb",
      "provenance": [],
      "collapsed_sections": []
    },
    "kernelspec": {
      "name": "python3",
      "display_name": "Python 3"
    },
    "language_info": {
      "name": "python"
    }
  },
  "cells": [
    {
      "cell_type": "markdown",
      "metadata": {
        "id": "nhPEM4IUoDKA"
      },
      "source": [
        "CO CST IMPLEMENTATION OF NEURAL NETWORK\n",
        "\n"
      ]
    },
    {
      "cell_type": "markdown",
      "source": [
        "# New Section"
      ],
      "metadata": {
        "id": "iO7jhzd8rzOU"
      }
    },
    {
      "cell_type": "code",
      "source": [
        ""
      ],
      "metadata": {
        "id": "bDN6Un_6rAR9"
      },
      "execution_count": null,
      "outputs": []
    },
    {
      "cell_type": "markdown",
      "metadata": {
        "id": "ZpJe0cAaoG98"
      },
      "source": [
        "# Tutorial 3: Neural Network Classification"
      ]
    },
    {
      "cell_type": "markdown",
      "metadata": {
        "id": "dIT7QrK2PwdM"
      },
      "source": [
        "Dataset: [Pima Indian Diabetes Dataset](https://data.world/data-society/pima-indians-diabetes-database#)\n",
        "\n",
        "This dataset is originally from the National Institute of Diabetes and Digestive and Kidney Diseases. The objective is to predict based on diagnostic measurements whether a patient has diabetes.\n",
        "\n",
        "Several constraints were placed on the selection of these instances from a larger database. In particular, all patients here are females at least 21 years old of Pima Indian heritage.\n",
        "\n",
        "Attributes of PIMA dataset:\n",
        "\n",
        "**Pregnancies**: Number of times pregnant\n",
        "\n",
        "**Glucose**: Plasma glucose concentration a 2 hours in an oral glucose tolerance test\n",
        "\n",
        "**BloodPressure**: Diastolic blood pressure (mm Hg)\n",
        "\n",
        "**SkinThickness**: Triceps skin fold thickness (mm)\n",
        "\n",
        "**Insulin**: 2-Hour serum insulin (mu U/ml)\n",
        "\n",
        "**BMI**: Body mass index (weight in kg/(height in m)^2)\n",
        "\n",
        "**DiabetesPedigreeFunction**: Diabetes pedigree function\n",
        "\n",
        "**Age**: Age (years)\n",
        "\n",
        "**Outcome**: Class variable (0 or 1)"
      ]
    },
    {
      "cell_type": "markdown",
      "metadata": {
        "id": "FIAgs3sTY712"
      },
      "source": [
        "**1. Mount the Google Drive**"
      ]
    },
    {
      "cell_type": "code",
      "metadata": {
        "id": "CrZg_G5MQ4L5",
        "colab": {
          "base_uri": "https://localhost:8080/"
        },
        "outputId": "da98846e-288e-4cd6-dfcb-46fc21e3ce57"
      },
      "source": [
        "from google.colab import drive\n",
        "drive.mount('/content/drive')"
      ],
      "execution_count": 1,
      "outputs": [
        {
          "output_type": "stream",
          "name": "stdout",
          "text": [
            "Mounted at /content/drive\n"
          ]
        }
      ]
    },
    {
      "cell_type": "markdown",
      "metadata": {
        "id": "CqAhYoWHZAwg"
      },
      "source": [
        "**2. Move to the place where data resides**"
      ]
    },
    {
      "cell_type": "code",
      "metadata": {
        "colab": {
          "base_uri": "https://localhost:8080/"
        },
        "id": "TjgG_3CiP4eQ",
        "outputId": "5ba72930-e6c3-41e8-ef01-aedf86888287"
      },
      "source": [
        "%cd /content/drive/MyDrive"
      ],
      "execution_count": 2,
      "outputs": [
        {
          "output_type": "stream",
          "name": "stdout",
          "text": [
            "/content/drive/MyDrive\n"
          ]
        }
      ]
    },
    {
      "cell_type": "code",
      "source": [
        "!ls"
      ],
      "metadata": {
        "id": "S-KhHH_xATY8",
        "colab": {
          "base_uri": "https://localhost:8080/"
        },
        "outputId": "d507ebac-ee61-4f76-e951-e1667c4775bc"
      },
      "execution_count": null,
      "outputs": [
        {
          "output_type": "stream",
          "name": "stdout",
          "text": [
            " 16020491643735375158119062460846.jpg\n",
            "'1634987777182_Patentability search report- VAS (1).docx'\n",
            "'1634987777182_Patentability search report- VAS (2).docx'\n",
            "'1634987777182_Patentability search report- VAS (3).docx'\n",
            "'1634987777182_Patentability search report- VAS.docx'\n",
            " 1stop_reciept.pdf\n",
            " Alexa_abstract.txt\n",
            " alexa_voiceflow_link.txt\n",
            "'Boom in Gaming .gdoc'\n",
            "'Certificate AI using Python Guvi (1).jpeg'\n",
            "'Certificate AI using Python Guvi.jpeg'\n",
            "'certificate diary writing (1).pdf'\n",
            "'certificate diary writing.pdf'\n",
            "'Chitransh_1stop_project_completion_6184[1036]_compressed.pdf'\n",
            "'Chitransh_Jun_2021_1stop_participation_6184[.pdf'\n",
            "'Chitransh Madavi 0827CO191016.pptx'\n",
            " Chitransh_Madavi_CO-16.gdoc\n",
            " CHITRANSH_MADAVI_CO16.gdoc\n",
            "'Chitransh Madavi cybersecrity.pdf'\n",
            "'Chitransh_Madavi_Hired_Certificate (1).pdf'\n",
            " Chitransh_Madavi_Hired_Certificate.pdf\n",
            "'Chitransh Madavi-Offer Letter_Tutedude (1).pdf'\n",
            "'Chitransh Madavi-Offer Letter_Tutedude (2).pdf'\n",
            "'Chitransh Madavi-Offer Letter_Tutedude.pdf'\n",
            "'Chitransh Madavi_Tcs_value_added_course.pdf'\n",
            " Chitransh_Sep_2021_internship_6184.pdf\n",
            " Classroom\n",
            "'clg id.pdf'\n",
            "'codechef problem solved.jpg'\n",
            "'Colab Notebooks'\n",
            "'Comp workshop CS-306 practical CO16.docx'\n",
            "'Coursera 9WTUPUYPZSTJ google python.pdf'\n",
            "'Coursera google python.pdf'\n",
            " custom_trainvalacc.png\n",
            " custom_trainvalloss.png\n",
            " Cybersecurity_Foundation_Student_Certificate.pdf\n",
            " Cybersecurity_RAW.gdoc\n",
            " Cybersecurity_SEM_6\n",
            " dataset.csv\n",
            "'Energy Literacy Certificate-compressed.pdf'\n",
            "'Energy Literacy Certificate.pdf'\n",
            "'Example No-1.gdoc'\n",
            "'Format of Synopsis.gdoc'\n",
            "'Getting started.pdf'\n",
            "'GuviCertification world record.png'\n",
            " Hackerrank_python.png\n",
            "'IBM AI for everyone Certificate _ edX.pdf'\n",
            "'IBM PYTHON Certificate _ edX.pdf'\n",
            " IMG20201013143622.jpg\n",
            " IMG20201013143628.jpg\n",
            " IWT\n",
            "'LAB MANUAL FORMAT.gdoc'\n",
            " laptops.csv.gsheet\n",
            "'Linux lab'\n",
            "'Linux _Lab-CS505 File Format.gdoc'\n",
            "'Machine Learning'\n",
            "'MicrosoftCertificate (1).pdf'\n",
            "'MicrosoftCertificate (2).pdf'\n",
            " MicrosoftCertificate.pdf\n",
            "'Operating System assingment 1.docx'\n",
            "'OSdesign an algorithm (1).docx'\n",
            "'OSdesign an algorithm.docx'\n",
            " Parent_AFD_2293192_2812202014555362.pdf\n",
            "'Participation in AWS Cloud Masterclass certificate (1).pdf'\n",
            "'Participation in AWS Cloud Masterclass certificate.pdf'\n",
            "'Patentability search report- VAS.docx'\n",
            "'Patent_VAS .gdoc'\n",
            " pheonix.pdf\n",
            " planes..pdf\n",
            "'Pledge Chitransh.gdoc'\n",
            " practical1.pdf\n",
            " practical2.pdf\n",
            "'professional photo.jpeg'\n",
            "'Railways Waiting List Manager - Pie chart 1.gsheet'\n",
            "'Req. Sources (1).gdoc'\n",
            "'Req. Sources.gdoc'\n",
            " Scales.pdf\n",
            " Screenshot_2020-11-07-13-30-34-36_70ac116ce739e36060f211aa22982eed.jpg\n",
            "'Screenshot_2021-05-17-22-20-10-24_47c69240c6dec28f102c4bfefa4cfe17 (1).jpg'\n",
            " Screenshot_2021-05-17-22-20-10-24_47c69240c6dec28f102c4bfefa4cfe17.jpg\n",
            "'Screenshot_2021-05-19-20-48-04-48_47c69240c6dec28f102c4bfefa4cfe17 (1).jpg'\n",
            " Screenshot_2021-05-19-20-48-04-48_47c69240c6dec28f102c4bfefa4cfe17.jpg\n",
            "'Screenshot_2021-05-21-10-46-39-01_47c69240c6dec28f102c4bfefa4cfe17 (1).jpg'\n",
            " Screenshot_2021-05-21-10-46-39-01_47c69240c6dec28f102c4bfefa4cfe17.jpg\n",
            " Screenshot_2021-05-29-09-51-50-59.jpg\n",
            " Screenshot_2021-07-24-13-40-21-46.jpg\n",
            " Screenshot_2021-08-06-12-05-22-41_70ac116ce739e36060f211aa22982eed.jpg\n",
            "'Screenshot 2021-12-28 152559.png'\n",
            " Student_AFD_2293192_2812202014555211.pdf\n",
            "'Unit 1 - Digital Systems - www.rgpvnotes.in.gdoc'\n",
            "'Unit - 1.gdoc'\n",
            "'Unit 2 - Digital Systems - www.rgpvnotes.in.gdoc'\n",
            "'Unit - 2.gdoc'\n",
            "'Unit 3 - Digital Systems - www.rgpvnotes.in.gdoc'\n",
            "'Untitled document.gdoc'\n",
            "'Untitled form.gform'\n",
            " VAS_patent.gdoc\n",
            "'voiceflow-export-1640685212026 (1).png'\n",
            " voiceflow-export-1640685212026.png\n"
          ]
        }
      ]
    },
    {
      "cell_type": "code",
      "source": [
        ""
      ],
      "metadata": {
        "id": "f65jHMx2I_1O"
      },
      "execution_count": null,
      "outputs": []
    },
    {
      "cell_type": "markdown",
      "metadata": {
        "id": "VKvfswsOZLUB"
      },
      "source": [
        "**3. Read the dataset from CSV file**"
      ]
    },
    {
      "cell_type": "code",
      "metadata": {
        "colab": {
          "base_uri": "https://localhost:8080/",
          "height": 363
        },
        "id": "32nNonRSSaQq",
        "outputId": "852c3204-d0fe-4cfb-ce85-c259c3c9e43f"
      },
      "source": [
        "import pandas as pd\n",
        "data = pd.read_csv('diabetes.csv')\n",
        "data.head(10)"
      ],
      "execution_count": 3,
      "outputs": [
        {
          "output_type": "execute_result",
          "data": {
            "text/plain": [
              "   Pregnancies  Glucose  BloodPressure  SkinThickness  Insulin   BMI  \\\n",
              "0            6      148             72             35        0  33.6   \n",
              "1            1       85             66             29        0  26.6   \n",
              "2            8      183             64              0        0  23.3   \n",
              "3            1       89             66             23       94  28.1   \n",
              "4            0      137             40             35      168  43.1   \n",
              "5            5      116             74              0        0  25.6   \n",
              "6            3       78             50             32       88  31.0   \n",
              "7           10      115              0              0        0  35.3   \n",
              "8            2      197             70             45      543  30.5   \n",
              "9            8      125             96              0        0   0.0   \n",
              "\n",
              "   DiabetesPedigreeFunction  Age  Outcome  \n",
              "0                     0.627   50        1  \n",
              "1                     0.351   31        0  \n",
              "2                     0.672   32        1  \n",
              "3                     0.167   21        0  \n",
              "4                     2.288   33        1  \n",
              "5                     0.201   30        0  \n",
              "6                     0.248   26        1  \n",
              "7                     0.134   29        0  \n",
              "8                     0.158   53        1  \n",
              "9                     0.232   54        1  "
            ],
            "text/html": [
              "\n",
              "  <div id=\"df-6d6a97c1-e18c-4f66-b716-a13909efbc3d\">\n",
              "    <div class=\"colab-df-container\">\n",
              "      <div>\n",
              "<style scoped>\n",
              "    .dataframe tbody tr th:only-of-type {\n",
              "        vertical-align: middle;\n",
              "    }\n",
              "\n",
              "    .dataframe tbody tr th {\n",
              "        vertical-align: top;\n",
              "    }\n",
              "\n",
              "    .dataframe thead th {\n",
              "        text-align: right;\n",
              "    }\n",
              "</style>\n",
              "<table border=\"1\" class=\"dataframe\">\n",
              "  <thead>\n",
              "    <tr style=\"text-align: right;\">\n",
              "      <th></th>\n",
              "      <th>Pregnancies</th>\n",
              "      <th>Glucose</th>\n",
              "      <th>BloodPressure</th>\n",
              "      <th>SkinThickness</th>\n",
              "      <th>Insulin</th>\n",
              "      <th>BMI</th>\n",
              "      <th>DiabetesPedigreeFunction</th>\n",
              "      <th>Age</th>\n",
              "      <th>Outcome</th>\n",
              "    </tr>\n",
              "  </thead>\n",
              "  <tbody>\n",
              "    <tr>\n",
              "      <th>0</th>\n",
              "      <td>6</td>\n",
              "      <td>148</td>\n",
              "      <td>72</td>\n",
              "      <td>35</td>\n",
              "      <td>0</td>\n",
              "      <td>33.6</td>\n",
              "      <td>0.627</td>\n",
              "      <td>50</td>\n",
              "      <td>1</td>\n",
              "    </tr>\n",
              "    <tr>\n",
              "      <th>1</th>\n",
              "      <td>1</td>\n",
              "      <td>85</td>\n",
              "      <td>66</td>\n",
              "      <td>29</td>\n",
              "      <td>0</td>\n",
              "      <td>26.6</td>\n",
              "      <td>0.351</td>\n",
              "      <td>31</td>\n",
              "      <td>0</td>\n",
              "    </tr>\n",
              "    <tr>\n",
              "      <th>2</th>\n",
              "      <td>8</td>\n",
              "      <td>183</td>\n",
              "      <td>64</td>\n",
              "      <td>0</td>\n",
              "      <td>0</td>\n",
              "      <td>23.3</td>\n",
              "      <td>0.672</td>\n",
              "      <td>32</td>\n",
              "      <td>1</td>\n",
              "    </tr>\n",
              "    <tr>\n",
              "      <th>3</th>\n",
              "      <td>1</td>\n",
              "      <td>89</td>\n",
              "      <td>66</td>\n",
              "      <td>23</td>\n",
              "      <td>94</td>\n",
              "      <td>28.1</td>\n",
              "      <td>0.167</td>\n",
              "      <td>21</td>\n",
              "      <td>0</td>\n",
              "    </tr>\n",
              "    <tr>\n",
              "      <th>4</th>\n",
              "      <td>0</td>\n",
              "      <td>137</td>\n",
              "      <td>40</td>\n",
              "      <td>35</td>\n",
              "      <td>168</td>\n",
              "      <td>43.1</td>\n",
              "      <td>2.288</td>\n",
              "      <td>33</td>\n",
              "      <td>1</td>\n",
              "    </tr>\n",
              "    <tr>\n",
              "      <th>5</th>\n",
              "      <td>5</td>\n",
              "      <td>116</td>\n",
              "      <td>74</td>\n",
              "      <td>0</td>\n",
              "      <td>0</td>\n",
              "      <td>25.6</td>\n",
              "      <td>0.201</td>\n",
              "      <td>30</td>\n",
              "      <td>0</td>\n",
              "    </tr>\n",
              "    <tr>\n",
              "      <th>6</th>\n",
              "      <td>3</td>\n",
              "      <td>78</td>\n",
              "      <td>50</td>\n",
              "      <td>32</td>\n",
              "      <td>88</td>\n",
              "      <td>31.0</td>\n",
              "      <td>0.248</td>\n",
              "      <td>26</td>\n",
              "      <td>1</td>\n",
              "    </tr>\n",
              "    <tr>\n",
              "      <th>7</th>\n",
              "      <td>10</td>\n",
              "      <td>115</td>\n",
              "      <td>0</td>\n",
              "      <td>0</td>\n",
              "      <td>0</td>\n",
              "      <td>35.3</td>\n",
              "      <td>0.134</td>\n",
              "      <td>29</td>\n",
              "      <td>0</td>\n",
              "    </tr>\n",
              "    <tr>\n",
              "      <th>8</th>\n",
              "      <td>2</td>\n",
              "      <td>197</td>\n",
              "      <td>70</td>\n",
              "      <td>45</td>\n",
              "      <td>543</td>\n",
              "      <td>30.5</td>\n",
              "      <td>0.158</td>\n",
              "      <td>53</td>\n",
              "      <td>1</td>\n",
              "    </tr>\n",
              "    <tr>\n",
              "      <th>9</th>\n",
              "      <td>8</td>\n",
              "      <td>125</td>\n",
              "      <td>96</td>\n",
              "      <td>0</td>\n",
              "      <td>0</td>\n",
              "      <td>0.0</td>\n",
              "      <td>0.232</td>\n",
              "      <td>54</td>\n",
              "      <td>1</td>\n",
              "    </tr>\n",
              "  </tbody>\n",
              "</table>\n",
              "</div>\n",
              "      <button class=\"colab-df-convert\" onclick=\"convertToInteractive('df-6d6a97c1-e18c-4f66-b716-a13909efbc3d')\"\n",
              "              title=\"Convert this dataframe to an interactive table.\"\n",
              "              style=\"display:none;\">\n",
              "        \n",
              "  <svg xmlns=\"http://www.w3.org/2000/svg\" height=\"24px\"viewBox=\"0 0 24 24\"\n",
              "       width=\"24px\">\n",
              "    <path d=\"M0 0h24v24H0V0z\" fill=\"none\"/>\n",
              "    <path d=\"M18.56 5.44l.94 2.06.94-2.06 2.06-.94-2.06-.94-.94-2.06-.94 2.06-2.06.94zm-11 1L8.5 8.5l.94-2.06 2.06-.94-2.06-.94L8.5 2.5l-.94 2.06-2.06.94zm10 10l.94 2.06.94-2.06 2.06-.94-2.06-.94-.94-2.06-.94 2.06-2.06.94z\"/><path d=\"M17.41 7.96l-1.37-1.37c-.4-.4-.92-.59-1.43-.59-.52 0-1.04.2-1.43.59L10.3 9.45l-7.72 7.72c-.78.78-.78 2.05 0 2.83L4 21.41c.39.39.9.59 1.41.59.51 0 1.02-.2 1.41-.59l7.78-7.78 2.81-2.81c.8-.78.8-2.07 0-2.86zM5.41 20L4 18.59l7.72-7.72 1.47 1.35L5.41 20z\"/>\n",
              "  </svg>\n",
              "      </button>\n",
              "      \n",
              "  <style>\n",
              "    .colab-df-container {\n",
              "      display:flex;\n",
              "      flex-wrap:wrap;\n",
              "      gap: 12px;\n",
              "    }\n",
              "\n",
              "    .colab-df-convert {\n",
              "      background-color: #E8F0FE;\n",
              "      border: none;\n",
              "      border-radius: 50%;\n",
              "      cursor: pointer;\n",
              "      display: none;\n",
              "      fill: #1967D2;\n",
              "      height: 32px;\n",
              "      padding: 0 0 0 0;\n",
              "      width: 32px;\n",
              "    }\n",
              "\n",
              "    .colab-df-convert:hover {\n",
              "      background-color: #E2EBFA;\n",
              "      box-shadow: 0px 1px 2px rgba(60, 64, 67, 0.3), 0px 1px 3px 1px rgba(60, 64, 67, 0.15);\n",
              "      fill: #174EA6;\n",
              "    }\n",
              "\n",
              "    [theme=dark] .colab-df-convert {\n",
              "      background-color: #3B4455;\n",
              "      fill: #D2E3FC;\n",
              "    }\n",
              "\n",
              "    [theme=dark] .colab-df-convert:hover {\n",
              "      background-color: #434B5C;\n",
              "      box-shadow: 0px 1px 3px 1px rgba(0, 0, 0, 0.15);\n",
              "      filter: drop-shadow(0px 1px 2px rgba(0, 0, 0, 0.3));\n",
              "      fill: #FFFFFF;\n",
              "    }\n",
              "  </style>\n",
              "\n",
              "      <script>\n",
              "        const buttonEl =\n",
              "          document.querySelector('#df-6d6a97c1-e18c-4f66-b716-a13909efbc3d button.colab-df-convert');\n",
              "        buttonEl.style.display =\n",
              "          google.colab.kernel.accessAllowed ? 'block' : 'none';\n",
              "\n",
              "        async function convertToInteractive(key) {\n",
              "          const element = document.querySelector('#df-6d6a97c1-e18c-4f66-b716-a13909efbc3d');\n",
              "          const dataTable =\n",
              "            await google.colab.kernel.invokeFunction('convertToInteractive',\n",
              "                                                     [key], {});\n",
              "          if (!dataTable) return;\n",
              "\n",
              "          const docLinkHtml = 'Like what you see? Visit the ' +\n",
              "            '<a target=\"_blank\" href=https://colab.research.google.com/notebooks/data_table.ipynb>data table notebook</a>'\n",
              "            + ' to learn more about interactive tables.';\n",
              "          element.innerHTML = '';\n",
              "          dataTable['output_type'] = 'display_data';\n",
              "          await google.colab.output.renderOutput(dataTable, element);\n",
              "          const docLink = document.createElement('div');\n",
              "          docLink.innerHTML = docLinkHtml;\n",
              "          element.appendChild(docLink);\n",
              "        }\n",
              "      </script>\n",
              "    </div>\n",
              "  </div>\n",
              "  "
            ]
          },
          "metadata": {},
          "execution_count": 3
        }
      ]
    },
    {
      "cell_type": "code",
      "metadata": {
        "colab": {
          "base_uri": "https://localhost:8080/"
        },
        "id": "ZrslDLESShr7",
        "outputId": "0489404f-82a1-4aa0-c50e-e9053fb3fa1f"
      },
      "source": [
        "data.columns"
      ],
      "execution_count": 4,
      "outputs": [
        {
          "output_type": "execute_result",
          "data": {
            "text/plain": [
              "Index(['Pregnancies', 'Glucose', 'BloodPressure', 'SkinThickness', 'Insulin',\n",
              "       'BMI', 'DiabetesPedigreeFunction', 'Age', 'Outcome'],\n",
              "      dtype='object')"
            ]
          },
          "metadata": {},
          "execution_count": 4
        }
      ]
    },
    {
      "cell_type": "code",
      "metadata": {
        "colab": {
          "base_uri": "https://localhost:8080/"
        },
        "id": "BLElehZ-Skgq",
        "outputId": "1e982107-72c4-4a75-e3cf-c5d75d28de87"
      },
      "source": [
        "data.values"
      ],
      "execution_count": 5,
      "outputs": [
        {
          "output_type": "execute_result",
          "data": {
            "text/plain": [
              "array([[  6.   , 148.   ,  72.   , ...,   0.627,  50.   ,   1.   ],\n",
              "       [  1.   ,  85.   ,  66.   , ...,   0.351,  31.   ,   0.   ],\n",
              "       [  8.   , 183.   ,  64.   , ...,   0.672,  32.   ,   1.   ],\n",
              "       ...,\n",
              "       [  5.   , 121.   ,  72.   , ...,   0.245,  30.   ,   0.   ],\n",
              "       [  1.   , 126.   ,  60.   , ...,   0.349,  47.   ,   1.   ],\n",
              "       [  1.   ,  93.   ,  70.   , ...,   0.315,  23.   ,   0.   ]])"
            ]
          },
          "metadata": {},
          "execution_count": 5
        }
      ]
    },
    {
      "cell_type": "markdown",
      "metadata": {
        "id": "2HnZxGc4ZQlf"
      },
      "source": [
        "**4. Store the data into input feature and label variables**"
      ]
    },
    {
      "cell_type": "code",
      "metadata": {
        "colab": {
          "base_uri": "https://localhost:8080/"
        },
        "id": "IPfA5BF0Sm4R",
        "outputId": "a073f387-8a0b-41e2-aec9-4e8dbb7571d8"
      },
      "source": [
        "dataset= data.values\n",
        "X = dataset[:,0:8]\n",
        "Y = dataset[:,8]\n",
        "print(X)\n",
        "print(Y)"
      ],
      "execution_count": 6,
      "outputs": [
        {
          "output_type": "stream",
          "name": "stdout",
          "text": [
            "[[  6.    148.     72.    ...  33.6     0.627  50.   ]\n",
            " [  1.     85.     66.    ...  26.6     0.351  31.   ]\n",
            " [  8.    183.     64.    ...  23.3     0.672  32.   ]\n",
            " ...\n",
            " [  5.    121.     72.    ...  26.2     0.245  30.   ]\n",
            " [  1.    126.     60.    ...  30.1     0.349  47.   ]\n",
            " [  1.     93.     70.    ...  30.4     0.315  23.   ]]\n",
            "[1. 0. 1. 0. 1. 0. 1. 0. 1. 1. 0. 1. 0. 1. 1. 1. 1. 1. 0. 1. 0. 0. 1. 1.\n",
            " 1. 1. 1. 0. 0. 0. 0. 1. 0. 0. 0. 0. 0. 1. 1. 1. 0. 0. 0. 1. 0. 1. 0. 0.\n",
            " 1. 0. 0. 0. 0. 1. 0. 0. 1. 0. 0. 0. 0. 1. 0. 0. 1. 0. 1. 0. 0. 0. 1. 0.\n",
            " 1. 0. 0. 0. 0. 0. 1. 0. 0. 0. 0. 0. 1. 0. 0. 0. 1. 0. 0. 0. 0. 1. 0. 0.\n",
            " 0. 0. 0. 1. 1. 0. 0. 0. 0. 0. 0. 0. 0. 1. 1. 1. 0. 0. 1. 1. 1. 0. 0. 0.\n",
            " 1. 0. 0. 0. 1. 1. 0. 0. 1. 1. 1. 1. 1. 0. 0. 0. 0. 0. 0. 0. 0. 0. 0. 1.\n",
            " 0. 0. 0. 0. 0. 0. 0. 0. 1. 0. 1. 1. 0. 0. 0. 1. 0. 0. 0. 0. 1. 1. 0. 0.\n",
            " 0. 0. 1. 1. 0. 0. 0. 1. 0. 1. 0. 1. 0. 0. 0. 0. 0. 1. 1. 1. 1. 1. 0. 0.\n",
            " 1. 1. 0. 1. 0. 1. 1. 1. 0. 0. 0. 0. 0. 0. 1. 1. 0. 1. 0. 0. 0. 1. 1. 1.\n",
            " 1. 0. 1. 1. 1. 1. 0. 0. 0. 0. 0. 1. 0. 0. 1. 1. 0. 0. 0. 1. 1. 1. 1. 0.\n",
            " 0. 0. 1. 1. 0. 1. 0. 0. 0. 0. 0. 0. 0. 0. 1. 1. 0. 0. 0. 1. 0. 1. 0. 0.\n",
            " 1. 0. 1. 0. 0. 1. 1. 0. 0. 0. 0. 0. 1. 0. 0. 0. 1. 0. 0. 1. 1. 0. 0. 1.\n",
            " 0. 0. 0. 1. 1. 1. 0. 0. 1. 0. 1. 0. 1. 1. 0. 1. 0. 0. 1. 0. 1. 1. 0. 0.\n",
            " 1. 0. 1. 0. 0. 1. 0. 1. 0. 1. 1. 1. 0. 0. 1. 0. 1. 0. 0. 0. 1. 0. 0. 0.\n",
            " 0. 1. 1. 1. 0. 0. 0. 0. 0. 0. 0. 0. 0. 1. 0. 0. 0. 0. 0. 1. 1. 1. 0. 1.\n",
            " 1. 0. 0. 1. 0. 0. 1. 0. 0. 1. 1. 0. 0. 0. 0. 1. 0. 0. 1. 0. 0. 0. 0. 0.\n",
            " 0. 0. 1. 1. 1. 0. 0. 1. 0. 0. 1. 0. 0. 1. 0. 1. 1. 0. 1. 0. 1. 0. 1. 0.\n",
            " 1. 1. 0. 0. 0. 0. 1. 1. 0. 1. 0. 1. 0. 0. 0. 0. 1. 1. 0. 1. 0. 1. 0. 0.\n",
            " 0. 0. 0. 1. 0. 0. 0. 0. 1. 0. 0. 1. 1. 1. 0. 0. 1. 0. 0. 1. 0. 0. 0. 1.\n",
            " 0. 0. 1. 0. 0. 0. 0. 0. 0. 0. 0. 0. 1. 0. 0. 0. 0. 0. 0. 0. 1. 0. 0. 0.\n",
            " 1. 0. 0. 0. 1. 1. 0. 0. 0. 0. 0. 0. 0. 1. 0. 0. 0. 0. 1. 0. 0. 0. 1. 0.\n",
            " 0. 0. 1. 0. 0. 0. 1. 0. 0. 0. 0. 1. 1. 0. 0. 0. 0. 0. 0. 1. 0. 0. 0. 0.\n",
            " 0. 0. 0. 0. 0. 0. 0. 1. 0. 0. 0. 1. 1. 1. 1. 0. 0. 1. 1. 0. 0. 0. 0. 0.\n",
            " 0. 0. 0. 0. 0. 0. 0. 0. 1. 1. 0. 0. 0. 0. 0. 0. 0. 1. 0. 0. 0. 0. 0. 0.\n",
            " 0. 1. 0. 1. 1. 0. 0. 0. 1. 0. 1. 0. 1. 0. 1. 0. 1. 0. 0. 1. 0. 0. 1. 0.\n",
            " 0. 0. 0. 1. 1. 0. 1. 0. 0. 0. 0. 1. 1. 0. 1. 0. 0. 0. 1. 1. 0. 0. 0. 0.\n",
            " 0. 0. 0. 0. 0. 0. 1. 0. 0. 0. 0. 1. 0. 0. 1. 0. 0. 0. 1. 0. 0. 0. 1. 1.\n",
            " 1. 0. 0. 0. 0. 0. 0. 1. 0. 0. 0. 1. 0. 1. 1. 1. 1. 0. 1. 1. 0. 0. 0. 0.\n",
            " 0. 0. 0. 1. 1. 0. 1. 0. 0. 1. 0. 1. 0. 0. 0. 0. 0. 1. 0. 1. 0. 1. 0. 1.\n",
            " 1. 0. 0. 0. 0. 1. 1. 0. 0. 0. 1. 0. 1. 1. 0. 0. 1. 0. 0. 1. 1. 0. 0. 1.\n",
            " 0. 0. 1. 0. 0. 0. 0. 0. 0. 0. 1. 1. 1. 0. 0. 0. 0. 0. 0. 1. 1. 0. 0. 1.\n",
            " 0. 0. 1. 0. 1. 1. 1. 0. 0. 1. 1. 1. 0. 1. 0. 1. 0. 1. 0. 0. 0. 0. 1. 0.]\n"
          ]
        }
      ]
    },
    {
      "cell_type": "markdown",
      "metadata": {
        "id": "OdPZerNUZV4Q"
      },
      "source": [
        "**5. Data Normalization**"
      ]
    },
    {
      "cell_type": "code",
      "metadata": {
        "colab": {
          "base_uri": "https://localhost:8080/"
        },
        "id": "pM4g3T1fWri-",
        "outputId": "90c02cc2-b1a2-49fa-8872-b1ade0083559"
      },
      "source": [
        "from sklearn import preprocessing\n",
        "min_max_scaler = preprocessing.MinMaxScaler()\n",
        "X_scale = min_max_scaler.fit_transform(X)\n",
        "X_scale"
      ],
      "execution_count": 7,
      "outputs": [
        {
          "output_type": "execute_result",
          "data": {
            "text/plain": [
              "array([[0.35294118, 0.74371859, 0.59016393, ..., 0.50074516, 0.23441503,\n",
              "        0.48333333],\n",
              "       [0.05882353, 0.42713568, 0.54098361, ..., 0.39642325, 0.11656704,\n",
              "        0.16666667],\n",
              "       [0.47058824, 0.91959799, 0.52459016, ..., 0.34724292, 0.25362938,\n",
              "        0.18333333],\n",
              "       ...,\n",
              "       [0.29411765, 0.6080402 , 0.59016393, ..., 0.390462  , 0.07130658,\n",
              "        0.15      ],\n",
              "       [0.05882353, 0.63316583, 0.49180328, ..., 0.4485842 , 0.11571307,\n",
              "        0.43333333],\n",
              "       [0.05882353, 0.46733668, 0.57377049, ..., 0.45305514, 0.10119556,\n",
              "        0.03333333]])"
            ]
          },
          "metadata": {},
          "execution_count": 7
        }
      ]
    },
    {
      "cell_type": "markdown",
      "metadata": {
        "id": "n1B5x8C0ZY-e"
      },
      "source": [
        "**6. One-hot vector conversion**"
      ]
    },
    {
      "cell_type": "code",
      "metadata": {
        "colab": {
          "base_uri": "https://localhost:8080/"
        },
        "id": "IWPUAnA-XNd8",
        "outputId": "77dd149a-1946-4a4b-e1e5-90d06875c9bf"
      },
      "source": [
        "from keras.utils import np_utils\n",
        "encoded_y = np_utils.to_categorical(Y)\n",
        "encoded_y"
      ],
      "execution_count": 8,
      "outputs": [
        {
          "output_type": "execute_result",
          "data": {
            "text/plain": [
              "array([[0., 1.],\n",
              "       [1., 0.],\n",
              "       [0., 1.],\n",
              "       ...,\n",
              "       [1., 0.],\n",
              "       [0., 1.],\n",
              "       [1., 0.]], dtype=float32)"
            ]
          },
          "metadata": {},
          "execution_count": 8
        }
      ]
    },
    {
      "cell_type": "markdown",
      "metadata": {
        "id": "IeJWmMxjZbgo"
      },
      "source": [
        "**7. Split the dataset into training, testing and validation set**"
      ]
    },
    {
      "cell_type": "code",
      "metadata": {
        "colab": {
          "base_uri": "https://localhost:8080/"
        },
        "id": "3BqXnV1FXYIV",
        "outputId": "ec929c2e-1e07-41f6-fb2c-1dc40b9549b7"
      },
      "source": [
        "from sklearn.model_selection import train_test_split\n",
        "X_training, X_testing, Y_training, Y_testing = train_test_split(X_scale, encoded_y, test_size=0.2, random_state=10)\n",
        "X_training, X_valid, Y_training, Y_valid = train_test_split(X_training, Y_training, test_size=0.2, random_state=10)\n",
        "print(len(X_training))\n",
        "print(len(X_testing))\n",
        "print(len(X_valid))"
      ],
      "execution_count": 9,
      "outputs": [
        {
          "output_type": "stream",
          "name": "stdout",
          "text": [
            "491\n",
            "154\n",
            "123\n"
          ]
        }
      ]
    },
    {
      "cell_type": "markdown",
      "metadata": {
        "id": "EH9IZizVZfKB"
      },
      "source": [
        "**8. Model Creation**"
      ]
    },
    {
      "cell_type": "code",
      "metadata": {
        "id": "hNfmvbMOXeku",
        "colab": {
          "base_uri": "https://localhost:8080/"
        },
        "outputId": "0d21366e-3e29-4af6-ca46-4836b2a509b4"
      },
      "source": [
        "from keras.models import Sequential\n",
        "from keras.layers import Dense\n",
        "\n",
        "# Creating the model\n",
        "model = Sequential()\n",
        "model.add(Dense(24, input_shape=(8,), activation='relu'))\n",
        "model.add(Dense(20, activation='relu'))\n",
        "model.add(Dense(12, activation='relu'))\n",
        "model.add(Dense(8, activation='relu'))\n",
        "model.add(Dense(2, activation='softmax'))\n",
        "model.summary()   #gives a summary of the model"
      ],
      "execution_count": 29,
      "outputs": [
        {
          "output_type": "stream",
          "name": "stdout",
          "text": [
            "Model: \"sequential_2\"\n",
            "_________________________________________________________________\n",
            " Layer (type)                Output Shape              Param #   \n",
            "=================================================================\n",
            " dense_10 (Dense)            (None, 24)                216       \n",
            "                                                                 \n",
            " dense_11 (Dense)            (None, 20)                500       \n",
            "                                                                 \n",
            " dense_12 (Dense)            (None, 12)                252       \n",
            "                                                                 \n",
            " dense_13 (Dense)            (None, 8)                 104       \n",
            "                                                                 \n",
            " dense_14 (Dense)            (None, 2)                 18        \n",
            "                                                                 \n",
            "=================================================================\n",
            "Total params: 1,090\n",
            "Trainable params: 1,090\n",
            "Non-trainable params: 0\n",
            "_________________________________________________________________\n"
          ]
        }
      ]
    },
    {
      "cell_type": "markdown",
      "metadata": {
        "id": "iYxZHI_EZiEF"
      },
      "source": [
        "**9. Model Compile**"
      ]
    },
    {
      "cell_type": "code",
      "metadata": {
        "id": "plF2qlxwXiIY"
      },
      "source": [
        "from tensorflow.keras import optimizers\n",
        "opt=optimizers.SGD(learning_rate=0.01)\n",
        "model.compile(loss='categorical_crossentropy', optimizer=opt, metrics=['accuracy'])"
      ],
      "execution_count": 30,
      "outputs": []
    },
    {
      "cell_type": "markdown",
      "metadata": {
        "id": "E8VrUFVQZkNd"
      },
      "source": [
        "**10. Model Training**"
      ]
    },
    {
      "cell_type": "markdown",
      "source": [
        "if you have 1000 training examples, and your batch size is  500, then it will take 2 iterations to complete 1 epoch."
      ],
      "metadata": {
        "id": "08Ul5lN90_Sp"
      }
    },
    {
      "cell_type": "code",
      "metadata": {
        "colab": {
          "base_uri": "https://localhost:8080/"
        },
        "id": "xhDZ8yPhXrs0",
        "outputId": "619806b8-9990-4520-9f01-6659be745a56"
      },
      "source": [
        "hist = model.fit(X_training, Y_training,batch_size=6,  epochs=50, validation_data=(X_valid,Y_valid))"
      ],
      "execution_count": 31,
      "outputs": [
        {
          "output_type": "stream",
          "name": "stdout",
          "text": [
            "Epoch 1/50\n",
            "82/82 [==============================] - 1s 4ms/step - loss: 0.6660 - accuracy: 0.6680 - val_loss: 0.6693 - val_accuracy: 0.6260\n",
            "Epoch 2/50\n",
            "82/82 [==============================] - 0s 3ms/step - loss: 0.6488 - accuracy: 0.6680 - val_loss: 0.6638 - val_accuracy: 0.6260\n",
            "Epoch 3/50\n",
            "82/82 [==============================] - 0s 3ms/step - loss: 0.6411 - accuracy: 0.6680 - val_loss: 0.6604 - val_accuracy: 0.6260\n",
            "Epoch 4/50\n",
            "82/82 [==============================] - 0s 3ms/step - loss: 0.6364 - accuracy: 0.6680 - val_loss: 0.6574 - val_accuracy: 0.6260\n",
            "Epoch 5/50\n",
            "82/82 [==============================] - 0s 3ms/step - loss: 0.6316 - accuracy: 0.6680 - val_loss: 0.6522 - val_accuracy: 0.6260\n",
            "Epoch 6/50\n",
            "82/82 [==============================] - 0s 2ms/step - loss: 0.6284 - accuracy: 0.6680 - val_loss: 0.6496 - val_accuracy: 0.6260\n",
            "Epoch 7/50\n",
            "82/82 [==============================] - 0s 3ms/step - loss: 0.6223 - accuracy: 0.6680 - val_loss: 0.6492 - val_accuracy: 0.6260\n",
            "Epoch 8/50\n",
            "82/82 [==============================] - 0s 2ms/step - loss: 0.6182 - accuracy: 0.6680 - val_loss: 0.6420 - val_accuracy: 0.6260\n",
            "Epoch 9/50\n",
            "82/82 [==============================] - 0s 3ms/step - loss: 0.6130 - accuracy: 0.6680 - val_loss: 0.6368 - val_accuracy: 0.6260\n",
            "Epoch 10/50\n",
            "82/82 [==============================] - 0s 2ms/step - loss: 0.6062 - accuracy: 0.6680 - val_loss: 0.6368 - val_accuracy: 0.6260\n",
            "Epoch 11/50\n",
            "82/82 [==============================] - 0s 3ms/step - loss: 0.6012 - accuracy: 0.6640 - val_loss: 0.6268 - val_accuracy: 0.6260\n",
            "Epoch 12/50\n",
            "82/82 [==============================] - 0s 2ms/step - loss: 0.5928 - accuracy: 0.6680 - val_loss: 0.6178 - val_accuracy: 0.6423\n",
            "Epoch 13/50\n",
            "82/82 [==============================] - 0s 3ms/step - loss: 0.5846 - accuracy: 0.6802 - val_loss: 0.6088 - val_accuracy: 0.6667\n",
            "Epoch 14/50\n",
            "82/82 [==============================] - 0s 2ms/step - loss: 0.5746 - accuracy: 0.6986 - val_loss: 0.5974 - val_accuracy: 0.6911\n",
            "Epoch 15/50\n",
            "82/82 [==============================] - 0s 2ms/step - loss: 0.5650 - accuracy: 0.7169 - val_loss: 0.5892 - val_accuracy: 0.6992\n",
            "Epoch 16/50\n",
            "82/82 [==============================] - 0s 3ms/step - loss: 0.5545 - accuracy: 0.7271 - val_loss: 0.5850 - val_accuracy: 0.7073\n",
            "Epoch 17/50\n",
            "82/82 [==============================] - 0s 2ms/step - loss: 0.5481 - accuracy: 0.7210 - val_loss: 0.5842 - val_accuracy: 0.7073\n",
            "Epoch 18/50\n",
            "82/82 [==============================] - 0s 2ms/step - loss: 0.5400 - accuracy: 0.7230 - val_loss: 0.5683 - val_accuracy: 0.6992\n",
            "Epoch 19/50\n",
            "82/82 [==============================] - 0s 2ms/step - loss: 0.5330 - accuracy: 0.7271 - val_loss: 0.5625 - val_accuracy: 0.7073\n",
            "Epoch 20/50\n",
            "82/82 [==============================] - 0s 2ms/step - loss: 0.5307 - accuracy: 0.7271 - val_loss: 0.5561 - val_accuracy: 0.7073\n",
            "Epoch 21/50\n",
            "82/82 [==============================] - 0s 3ms/step - loss: 0.5229 - accuracy: 0.7332 - val_loss: 0.5523 - val_accuracy: 0.7073\n",
            "Epoch 22/50\n",
            "82/82 [==============================] - 0s 2ms/step - loss: 0.5151 - accuracy: 0.7434 - val_loss: 0.5457 - val_accuracy: 0.7073\n",
            "Epoch 23/50\n",
            "82/82 [==============================] - 0s 2ms/step - loss: 0.5099 - accuracy: 0.7434 - val_loss: 0.5675 - val_accuracy: 0.7154\n",
            "Epoch 24/50\n",
            "82/82 [==============================] - 0s 3ms/step - loss: 0.5111 - accuracy: 0.7393 - val_loss: 0.5331 - val_accuracy: 0.7154\n",
            "Epoch 25/50\n",
            "82/82 [==============================] - 0s 2ms/step - loss: 0.5066 - accuracy: 0.7434 - val_loss: 0.5291 - val_accuracy: 0.7154\n",
            "Epoch 26/50\n",
            "82/82 [==============================] - 0s 3ms/step - loss: 0.5030 - accuracy: 0.7637 - val_loss: 0.5238 - val_accuracy: 0.7073\n",
            "Epoch 27/50\n",
            "82/82 [==============================] - 0s 2ms/step - loss: 0.4966 - accuracy: 0.7332 - val_loss: 0.5301 - val_accuracy: 0.7236\n",
            "Epoch 28/50\n",
            "82/82 [==============================] - 0s 2ms/step - loss: 0.4935 - accuracy: 0.7393 - val_loss: 0.5180 - val_accuracy: 0.7154\n",
            "Epoch 29/50\n",
            "82/82 [==============================] - 0s 3ms/step - loss: 0.4930 - accuracy: 0.7373 - val_loss: 0.5110 - val_accuracy: 0.7236\n",
            "Epoch 30/50\n",
            "82/82 [==============================] - 0s 3ms/step - loss: 0.4905 - accuracy: 0.7454 - val_loss: 0.5067 - val_accuracy: 0.7154\n",
            "Epoch 31/50\n",
            "82/82 [==============================] - 0s 2ms/step - loss: 0.4930 - accuracy: 0.7393 - val_loss: 0.5023 - val_accuracy: 0.7154\n",
            "Epoch 32/50\n",
            "82/82 [==============================] - 0s 2ms/step - loss: 0.4823 - accuracy: 0.7352 - val_loss: 0.5071 - val_accuracy: 0.7480\n",
            "Epoch 33/50\n",
            "82/82 [==============================] - 0s 3ms/step - loss: 0.4856 - accuracy: 0.7515 - val_loss: 0.4987 - val_accuracy: 0.7317\n",
            "Epoch 34/50\n",
            "82/82 [==============================] - 0s 3ms/step - loss: 0.4858 - accuracy: 0.7495 - val_loss: 0.4985 - val_accuracy: 0.7642\n",
            "Epoch 35/50\n",
            "82/82 [==============================] - 0s 2ms/step - loss: 0.4795 - accuracy: 0.7617 - val_loss: 0.5087 - val_accuracy: 0.7561\n",
            "Epoch 36/50\n",
            "82/82 [==============================] - 0s 3ms/step - loss: 0.4817 - accuracy: 0.7719 - val_loss: 0.4936 - val_accuracy: 0.7967\n",
            "Epoch 37/50\n",
            "82/82 [==============================] - 0s 2ms/step - loss: 0.4781 - accuracy: 0.7699 - val_loss: 0.4940 - val_accuracy: 0.7480\n",
            "Epoch 38/50\n",
            "82/82 [==============================] - 0s 3ms/step - loss: 0.4772 - accuracy: 0.7699 - val_loss: 0.4848 - val_accuracy: 0.7480\n",
            "Epoch 39/50\n",
            "82/82 [==============================] - 0s 3ms/step - loss: 0.4893 - accuracy: 0.7658 - val_loss: 0.4879 - val_accuracy: 0.7967\n",
            "Epoch 40/50\n",
            "82/82 [==============================] - 0s 3ms/step - loss: 0.4744 - accuracy: 0.7739 - val_loss: 0.5043 - val_accuracy: 0.7561\n",
            "Epoch 41/50\n",
            "82/82 [==============================] - 0s 2ms/step - loss: 0.4802 - accuracy: 0.7617 - val_loss: 0.4817 - val_accuracy: 0.7561\n",
            "Epoch 42/50\n",
            "82/82 [==============================] - 0s 3ms/step - loss: 0.4735 - accuracy: 0.7780 - val_loss: 0.4783 - val_accuracy: 0.7886\n",
            "Epoch 43/50\n",
            "82/82 [==============================] - 0s 2ms/step - loss: 0.4746 - accuracy: 0.7617 - val_loss: 0.4834 - val_accuracy: 0.8049\n",
            "Epoch 44/50\n",
            "82/82 [==============================] - 0s 2ms/step - loss: 0.4718 - accuracy: 0.7556 - val_loss: 0.4765 - val_accuracy: 0.7561\n",
            "Epoch 45/50\n",
            "82/82 [==============================] - 0s 3ms/step - loss: 0.4722 - accuracy: 0.7637 - val_loss: 0.4806 - val_accuracy: 0.8049\n",
            "Epoch 46/50\n",
            "82/82 [==============================] - 0s 3ms/step - loss: 0.4711 - accuracy: 0.7515 - val_loss: 0.5037 - val_accuracy: 0.7805\n",
            "Epoch 47/50\n",
            "82/82 [==============================] - 0s 2ms/step - loss: 0.4739 - accuracy: 0.7678 - val_loss: 0.4826 - val_accuracy: 0.8049\n",
            "Epoch 48/50\n",
            "82/82 [==============================] - 0s 2ms/step - loss: 0.4751 - accuracy: 0.7536 - val_loss: 0.4745 - val_accuracy: 0.7886\n",
            "Epoch 49/50\n",
            "82/82 [==============================] - 0s 2ms/step - loss: 0.4733 - accuracy: 0.7515 - val_loss: 0.4840 - val_accuracy: 0.8049\n",
            "Epoch 50/50\n",
            "82/82 [==============================] - 0s 2ms/step - loss: 0.4727 - accuracy: 0.7821 - val_loss: 0.4662 - val_accuracy: 0.7805\n"
          ]
        }
      ]
    },
    {
      "cell_type": "markdown",
      "metadata": {
        "id": "80o1i3fzZsA-"
      },
      "source": [
        "**11. Plot the training loss and accuracy**"
      ]
    },
    {
      "cell_type": "code",
      "source": [
        "import matplotlib.pyplot as plt \n",
        "acc = hist.history['accuracy']\n",
        "val_acc = hist.history['val_accuracy']\n",
        "loss = hist.history['loss']\n",
        "val_loss = hist.history['val_loss']\n",
        " \n",
        "epochs = range(len(acc))\n",
        " \n",
        "plt.plot(epochs, acc, 'b', label='Training acc')\n",
        "plt.plot(epochs, val_acc, 'r', label='Validation acc')\n",
        "plt.title('Training and validation accuracy')\n",
        "plt.legend()\n",
        "plt.savefig('custom_trainvalacc.png')\n",
        "plt.figure()\n",
        " \n",
        "plt.plot(epochs, loss, 'b', label='Training loss')\n",
        "plt.plot(epochs, val_loss, 'r', label='Validation loss')\n",
        "plt.title('Training and validation loss')\n",
        "plt.legend()\n",
        " \n",
        "#plt.show()\n",
        "plt.savefig('custom_trainvalloss.png')\n",
        "plt.figure()"
      ],
      "metadata": {
        "colab": {
          "base_uri": "https://localhost:8080/",
          "height": 580
        },
        "id": "69dOEi6HAiXT",
        "outputId": "6c19e87f-01b9-406e-fbeb-34a4855f1c1d"
      },
      "execution_count": 32,
      "outputs": [
        {
          "output_type": "execute_result",
          "data": {
            "text/plain": [
              "<Figure size 432x288 with 0 Axes>"
            ]
          },
          "metadata": {},
          "execution_count": 32
        },
        {
          "output_type": "display_data",
          "data": {
            "text/plain": [
              "<Figure size 432x288 with 1 Axes>"
            ],
            "image/png": "[encoded data removed]"
          },
          "metadata": {
            "needs_background": "light"
          }
        },
        {
          "output_type": "display_data",
          "data": {
            "text/plain": [
              "<Figure size 432x288 with 1 Axes>"
            ],
            "image/png": "[encoded data removed]"
          },
          "metadata": {
            "needs_background": "light"
          }
        },
        {
          "output_type": "display_data",
          "data": {
            "text/plain": [
              "<Figure size 432x288 with 0 Axes>"
            ]
          },
          "metadata": {}
        }
      ]
    },
    {
      "cell_type": "markdown",
      "metadata": {
        "id": "a8fUXoqeZvwf"
      },
      "source": [
        "**12. Evaluate the performance**"
      ]
    },
    {
      "cell_type": "code",
      "metadata": {
        "colab": {
          "base_uri": "https://localhost:8080/"
        },
        "id": "wawHhkURYMLE",
        "outputId": "a0693997-ecbe-4040-8f2a-537ba0068611"
      },
      "source": [
        "res =model.evaluate(X_testing, Y_testing)"
      ],
      "execution_count": 33,
      "outputs": [
        {
          "output_type": "stream",
          "name": "stdout",
          "text": [
            "5/5 [==============================] - 0s 3ms/step - loss: 0.4967 - accuracy: 0.7532\n"
          ]
        }
      ]
    },
    {
      "cell_type": "markdown",
      "metadata": {
        "id": "0WCSw36oZyG_"
      },
      "source": [
        "**13. Predict on new datatset**\n"
      ]
    },
    {
      "cell_type": "code",
      "metadata": {
        "colab": {
          "base_uri": "https://localhost:8080/"
        },
        "id": "CcE27mGFYo3G",
        "outputId": "186057b5-ec9e-45a9-8e58-160c34732162"
      },
      "source": [
        "test=X_testing[0]\n",
        "y_act=Y_testing[0]\n",
        "result=model.predict(test.reshape(1,8))\n",
        "result"
      ],
      "execution_count": 17,
      "outputs": [
        {
          "output_type": "execute_result",
          "data": {
            "text/plain": [
              "array([[0.63957334, 0.36042666]], dtype=float32)"
            ]
          },
          "metadata": {},
          "execution_count": 17
        }
      ]
    },
    {
      "cell_type": "code",
      "metadata": {
        "colab": {
          "base_uri": "https://localhost:8080/"
        },
        "id": "T4RDC-ZHYqv_",
        "outputId": "edbf5e3c-e6dd-4b61-e2df-1e2695063ce0"
      },
      "source": [
        "import numpy as np\n",
        "y_pred = np.round(result)\n",
        "print(\"Actual:\"+ str(y_act))\n",
        "print(\"Predicted:\"+str(y_pred))"
      ],
      "execution_count": 18,
      "outputs": [
        {
          "output_type": "stream",
          "name": "stdout",
          "text": [
            "Actual:[1. 0.]\n",
            "Predicted:[[1. 0.]]\n"
          ]
        }
      ]
    },
    {
      "cell_type": "markdown",
      "metadata": {
        "id": "E9mMqJtXYz2Q"
      },
      "source": [
        "**Reference:** - https://keras.io/"
      ]
    }
  ]
}